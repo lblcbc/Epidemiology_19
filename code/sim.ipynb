{
 "cells": [
  {
   "cell_type": "code",
   "execution_count": null,
   "metadata": {},
   "outputs": [],
   "source": [
    "from constants import *\n",
    "from assign_population_houses import *\n",
    "from assign_areas import *\n",
    "from day_cycles import *\n",
    "#from day_cycles_I import * # I: all those infectious don't leave their house\n",
    "#from day_cycles_II import * # II: masks, assumed to reduce infection rates by 50%\n",
    "#from day_cycles_III import * # III: restrictions from II, ~90% work from home, ~10% only go to stores daily, no parent's or kids or youn adults see their parents/granparents\n",
    "from prints import *"
   ]
  },
  {
   "cell_type": "code",
   "execution_count": null,
   "metadata": {},
   "outputs": [],
   "source": [
    "def sim():\n",
    "    check_grid(POPULATION_SIZE, GRID_SIZE)\n",
    "    population, houses = generate_population_and_assign_houses(POPULATION_SIZE, GRID_SIZE)\n",
    "    assign_mortality_rates(population)\n",
    "    stores = generate_stores(population, STORE_CAPACITY, GRID_SIZE, houses)\n",
    "    workplaces = generate_workplaces(population, WORKPLACE_CAPACITY, GRID_SIZE, houses, stores)\n",
    "    outdoors = generate_outdoors(GRID_SIZE, houses, stores, workplaces)\n",
    "    assign_stores(population, stores)\n",
    "    assign_workplaces(population, workplaces)\n",
    "    print_population_info(population, houses)\n",
    "    print()\n",
    "    print(\"Simulation Grid, with Max All-At-Once Allocation\")\n",
    "    print_grids(houses, stores, workplaces, outdoors, GRID_SIZE)\n",
    "    print()\n",
    "    simulate_day(population, houses, workplaces, stores, outdoors, NUM_DAYS)\n",
    "    print(f\"Passed: {passed_count[-1]}\")\n",
    "    plot_counts(healthy_count, infected_count, passed_count, immune_count)\n",
    "    plot_age_dist(INFECTED_AGE, PASSED_AGE)\n",
    "    reset_counts()\n",
    "\n",
    "sim()"
   ]
  },
  {
   "cell_type": "code",
   "execution_count": null,
   "metadata": {},
   "outputs": [],
   "source": []
  }
 ],
 "metadata": {
  "kernelspec": {
   "display_name": "Python 3",
   "language": "python",
   "name": "python3"
  },
  "language_info": {
   "codemirror_mode": {
    "name": "ipython",
    "version": 3
   },
   "file_extension": ".py",
   "mimetype": "text/x-python",
   "name": "python",
   "nbconvert_exporter": "python",
   "pygments_lexer": "ipython3",
   "version": "3.11.4"
  },
  "orig_nbformat": 4
 },
 "nbformat": 4,
 "nbformat_minor": 2
}
